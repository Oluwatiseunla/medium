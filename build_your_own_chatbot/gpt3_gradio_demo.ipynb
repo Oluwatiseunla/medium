{
  "nbformat": 4,
  "nbformat_minor": 0,
  "metadata": {
    "colab": {
      "provenance": [],
      "authorship_tag": "ABX9TyNZf4IcIvqzdBSq2grJRkJS",
      "include_colab_link": true
    },
    "kernelspec": {
      "name": "python3",
      "display_name": "Python 3"
    },
    "language_info": {
      "name": "python"
    }
  },
  "cells": [
    {
      "cell_type": "markdown",
      "metadata": {
        "id": "view-in-github",
        "colab_type": "text"
      },
      "source": [
        "<a href=\"https://colab.research.google.com/github/andreRibeiro1989/medium/blob/main/build_your_own_chatbot/gpt3_gradio_demo.ipynb\" target=\"_parent\"><img src=\"https://colab.research.google.com/assets/colab-badge.svg\" alt=\"Open In Colab\"/></a>"
      ]
    },
    {
      "cell_type": "code",
      "source": [
        "!pip install openai gradio"
      ],
      "metadata": {
        "id": "m9Gxf_pkmsXt"
      },
      "execution_count": null,
      "outputs": []
    },
    {
      "cell_type": "code",
      "source": [
        "import openai\n",
        "openai.api_key = sk_token # your token goes here\n",
        "\n",
        "def get_model_reply(query, context=[]):\n",
        "    # combines the new question with a previous context\n",
        "    context += [query]\n",
        "    \n",
        "    # given the most recent context (4096 characters)\n",
        "    # continue the text up to 2048 tokens ~ 8192 charaters\n",
        "    completion = openai.Completion.create(\n",
        "        engine='text-davinci-003',\n",
        "        prompt='\\n\\n'.join(context)[:4096],\n",
        "        max_tokens = 2048,\n",
        "        temperature = 0.0, # Lower values make the response more deterministic\n",
        "    )\n",
        "    \n",
        "    # append response to context\n",
        "    response = completion.choices[0].text.strip('\\n')\n",
        "    context += [response]\n",
        "    \n",
        "    # list of (user, bot) responses. We will use this format later\n",
        "    responses = [(u,b) for u,b in zip(context[::2], context[1::2])]\n",
        "    \n",
        "    return responses, context"
      ],
      "metadata": {
        "id": "66F9tHL4mmnY"
      },
      "execution_count": 3,
      "outputs": []
    },
    {
      "cell_type": "code",
      "source": [
        "query = 'Which is the largest country by area in the world?'\n",
        "responses, context = get_model_reply(query, context=[])\n",
        "\n",
        "print('<USER> ' + responses[-1][0])\n",
        "print('<BOT> ' + responses[-1][1])"
      ],
      "metadata": {
        "colab": {
          "base_uri": "https://localhost:8080/"
        },
        "id": "k6UUuHTJmovk",
        "outputId": "f5f764de-3cde-4f55-8f42-83286cc1f22c"
      },
      "execution_count": 4,
      "outputs": [
        {
          "output_type": "stream",
          "name": "stdout",
          "text": [
            "<USER> Which is the largest country by area in the world?\n",
            "<BOT> The largest country by area in the world is Russia, with a total area of 17,098,242 square kilometers (6,601,668 square miles).\n"
          ]
        }
      ]
    },
    {
      "cell_type": "code",
      "source": [
        "query = 'With which countries does it share a border?'\n",
        "responses, context = get_model_reply(query, context=context)\n",
        "\n",
        "print('<USER> ' + responses[-1][0])\n",
        "print('<BOT> ' + responses[-1][1])"
      ],
      "metadata": {
        "colab": {
          "base_uri": "https://localhost:8080/"
        },
        "id": "bNfP9PuQmykn",
        "outputId": "4dd542e5-0b40-40cf-8354-ee9180bba301"
      },
      "execution_count": 5,
      "outputs": [
        {
          "output_type": "stream",
          "name": "stdout",
          "text": [
            "<USER> With which countries does it share a border?\n",
            "<BOT> Russia shares a border with the following countries: Norway, Finland, Estonia, Latvia, Lithuania, Poland, Belarus, Ukraine, Georgia, Azerbaijan, Kazakhstan, Mongolia, China, North Korea, and Lithuania.\n"
          ]
        }
      ]
    },
    {
      "cell_type": "code",
      "source": [
        "import gradio as gr\n",
        "\n",
        "# defines a basic dialog interface using Gradio\n",
        "with gr.Blocks() as dialog_app:\n",
        "    chatbot = gr.Chatbot()\n",
        "    state = gr.State([])\n",
        "    \n",
        "    with gr.Row():\n",
        "        txt = gr.Textbox(\n",
        "            show_label=False, \n",
        "            placeholder=\"Enter text and press enter\"\n",
        "        ).style(container=False)\n",
        "\n",
        "    txt.submit(get_model_reply, [txt, state], [chatbot, state])\n",
        "\n",
        "# launches the app in a new local port\n",
        "dialog_app.launch()"
      ],
      "metadata": {
        "colab": {
          "base_uri": "https://localhost:8080/",
          "height": 618
        },
        "id": "7Lcv4XESmytk",
        "outputId": "76994176-d8f0-47af-94b9-8e2f0bf32c7e"
      },
      "execution_count": 6,
      "outputs": [
        {
          "output_type": "stream",
          "name": "stdout",
          "text": [
            "Colab notebook detected. To show errors in colab notebook, set debug=True in launch()\n",
            "Note: opening Chrome Inspector may crash demo inside Colab notebooks.\n",
            "\n",
            "To create a public link, set `share=True` in `launch()`.\n"
          ]
        },
        {
          "output_type": "display_data",
          "data": {
            "text/plain": [
              "<IPython.core.display.Javascript object>"
            ],
            "application/javascript": [
              "(async (port, path, width, height, cache, element) => {\n",
              "                        if (!google.colab.kernel.accessAllowed && !cache) {\n",
              "                            return;\n",
              "                        }\n",
              "                        element.appendChild(document.createTextNode(''));\n",
              "                        const url = await google.colab.kernel.proxyPort(port, {cache});\n",
              "\n",
              "                        const external_link = document.createElement('div');\n",
              "                        external_link.innerHTML = `\n",
              "                            <div style=\"font-family: monospace; margin-bottom: 0.5rem\">\n",
              "                                Running on <a href=${new URL(path, url).toString()} target=\"_blank\">\n",
              "                                    https://localhost:${port}${path}\n",
              "                                </a>\n",
              "                            </div>\n",
              "                        `;\n",
              "                        element.appendChild(external_link);\n",
              "\n",
              "                        const iframe = document.createElement('iframe');\n",
              "                        iframe.src = new URL(path, url).toString();\n",
              "                        iframe.height = height;\n",
              "                        iframe.allow = \"autoplay; camera; microphone; clipboard-read; clipboard-write;\"\n",
              "                        iframe.width = width;\n",
              "                        iframe.style.border = 0;\n",
              "                        element.appendChild(iframe);\n",
              "                    })(7860, \"/\", \"100%\", 500, false, window.element)"
            ]
          },
          "metadata": {}
        },
        {
          "output_type": "execute_result",
          "data": {
            "text/plain": []
          },
          "metadata": {},
          "execution_count": 6
        }
      ]
    }
  ]
}