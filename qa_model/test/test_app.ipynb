{
 "cells": [
  {
   "cell_type": "code",
   "execution_count": 1,
   "metadata": {},
   "outputs": [],
   "source": [
    "import json\n",
    "import requests\n",
    "import time"
   ]
  },
  {
   "cell_type": "markdown",
   "metadata": {},
   "source": [
    "## Load dataset"
   ]
  },
  {
   "cell_type": "code",
   "execution_count": 2,
   "metadata": {},
   "outputs": [],
   "source": [
    "with open(\"../train-v2.0.json\", 'r') as f:\n",
    "    data = json.load(f)"
   ]
  },
  {
   "cell_type": "code",
   "execution_count": 3,
   "metadata": {},
   "outputs": [
    {
     "name": "stdout",
     "output_type": "stream",
     "text": [
      "Number of available questions: 357\n"
     ]
    }
   ],
   "source": [
    "def get_qa(topic, data):\n",
    "    q = []\n",
    "    a = []\n",
    "    for d in data['data']:\n",
    "        if d['title']==topic:\n",
    "            for paragraph in d['paragraphs']:\n",
    "                for qa in paragraph['qas']:\n",
    "                    if not qa['is_impossible']:\n",
    "                        q.append(qa['question'])\n",
    "                        a.append(qa['answers'][0]['text'])\n",
    "            return q,a\n",
    "\n",
    "questions, answers = get_qa(topic='Premier_League', data=data)\n",
    "print(\"Number of available questions: {}\".format(len(questions)))"
   ]
  },
  {
   "cell_type": "markdown",
   "metadata": {},
   "source": [
    "## Run app"
   ]
  },
  {
   "cell_type": "code",
   "execution_count": 4,
   "metadata": {},
   "outputs": [
    {
     "name": "stdout",
     "output_type": "stream",
     "text": [
      "Sending build context to Docker daemon  267.6MB\n",
      "Step 1/6 : FROM python:3.8.12-slim-buster\n",
      " ---> d78a351dcf4a\n",
      "Step 2/6 : RUN apt-get update &&    apt-get install -y --no-install-recommends wget &&    rm -rf /var/lib/apt/lists/* &&    pip install --no-cache-dir transformers[torch] uvicorn fastapi\n",
      " ---> Using cache\n",
      " ---> ad8f6df7006a\n",
      "Step 3/6 : COPY download_model.sh .\n",
      " ---> Using cache\n",
      " ---> ab147f33d0d9\n",
      "Step 4/6 : RUN bash download_model.sh\n",
      " ---> Using cache\n",
      " ---> d9dca610aa69\n",
      "Step 5/6 : COPY app/ app/\n",
      " ---> Using cache\n",
      " ---> 3872e51fecd4\n",
      "Step 6/6 : CMD [\"python\", \"app/main.py\"]\n",
      " ---> Using cache\n",
      " ---> 899286aece5b\n",
      "Successfully built 899286aece5b\n",
      "Successfully tagged qamodel:latest\n",
      "d952b8810b05de6b61139efb9d3646e65d7ac65e5a8c4fb8ee0db71fd7098bfc\n"
     ]
    }
   ],
   "source": [
    "%%bash\n",
    "docker build ../ -t qamodel \n",
    "docker run -d -p 8000:8000 qamodel"
   ]
  },
  {
   "cell_type": "code",
   "execution_count": 5,
   "metadata": {},
   "outputs": [],
   "source": [
    "time.sleep(10)"
   ]
  },
  {
   "cell_type": "code",
   "execution_count": 6,
   "metadata": {},
   "outputs": [
    {
     "data": {
      "text/plain": [
       "{'message': 'Search context set'}"
      ]
     },
     "execution_count": 6,
     "metadata": {},
     "output_type": "execute_result"
    }
   ],
   "source": [
    "json_data = {\n",
    "  'questions':questions,\n",
    "  'answers':answers,\n",
    "}\n",
    "\n",
    "response = requests.post(\n",
    "  'http://0.0.0.0:8000/set_context',\n",
    "  json=json_data\n",
    ")\n",
    "\n",
    "response.json()"
   ]
  },
  {
   "cell_type": "code",
   "execution_count": 7,
   "metadata": {},
   "outputs": [
    {
     "name": "stdout",
     "output_type": "stream",
     "text": [
      "orig_q : How many teams compete in the Premier League ?\n",
      "best_q : How many clubs are currently in the Premier League?\n",
      "best_a : 20\n",
      "\n",
      "orig_q : When does the Premier League starts and finishes ?\n",
      "best_q : When does the Premier League have its playing season?\n",
      "best_a : During the course of a season (from August to May)\n",
      "\n",
      "orig_q : Who has the highest number of goals in the Premier League ?\n",
      "best_q : Who has the record for most goals in the Premier League?\n",
      "best_a : Newcastle United striker Alan Shearer holds the record for most Premier League goals with 260\n",
      "\n"
     ]
    }
   ],
   "source": [
    "new_questions = [\n",
    "    'How many teams compete in the Premier League ?',\n",
    "    'When does the Premier League starts and finishes ?',\n",
    "    'Who has the highest number of goals in the Premier League ?',\n",
    "]\n",
    "\n",
    "json_data = {\n",
    "  'questions':new_questions,\n",
    "}\n",
    "\n",
    "response = requests.post(\n",
    "  'http://0.0.0.0:8000/get_answer',\n",
    "  json=json_data\n",
    ")\n",
    "\n",
    "for d in response.json():\n",
    "  print('\\n'.join([\"{} : {}\".format(k, v) for k,v in d.items()])+'\\n')"
   ]
  }
 ],
 "metadata": {
  "kernelspec": {
   "display_name": "base",
   "language": "python",
   "name": "base"
  },
  "language_info": {
   "codemirror_mode": {
    "name": "ipython",
    "version": 3
   },
   "file_extension": ".py",
   "mimetype": "text/x-python",
   "name": "python",
   "nbconvert_exporter": "python",
   "pygments_lexer": "ipython3",
   "version": "3.8.3"
  }
 },
 "nbformat": 4,
 "nbformat_minor": 4
}
