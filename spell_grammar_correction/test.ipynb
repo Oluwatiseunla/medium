{
 "cells": [
  {
   "cell_type": "markdown",
   "metadata": {},
   "source": [
    "# Testing script for the Serverless language correction tool"
   ]
  },
  {
   "cell_type": "markdown",
   "metadata": {},
   "source": [
    "## Test Gingerit locally"
   ]
  },
  {
   "cell_type": "code",
   "execution_count": null,
   "metadata": {},
   "outputs": [],
   "source": [
    "from gingerit.gingerit import GingerIt\n",
    "\n",
    "text = 'This is a corrects snetence'\n",
    "\n",
    "corrected_text = GingerIt().parse(text)['result']\n",
    "\n",
    "print(f\" Original text: '{text}'\\nCorrected text: '{corrected_text}'\")"
   ]
  },
  {
   "cell_type": "markdown",
   "metadata": {},
   "source": [
    "## Test Lambda"
   ]
  },
  {
   "cell_type": "code",
   "execution_count": null,
   "metadata": {},
   "outputs": [],
   "source": [
    "import json\n",
    "import requests\n",
    "import pprint\n",
    "import boto3"
   ]
  },
  {
   "cell_type": "markdown",
   "metadata": {},
   "source": [
    "### To build the Docker container run the script below"
   ]
  },
  {
   "cell_type": "code",
   "execution_count": null,
   "metadata": {},
   "outputs": [],
   "source": [
    "# %%bash \n",
    "# docker build . spell_grammar_corrector\n",
    "# docker run -p 9000:8080 spell_grammar_corrector"
   ]
  },
  {
   "cell_type": "markdown",
   "metadata": {},
   "source": [
    "### Locally with built-in test functionality"
   ]
  },
  {
   "cell_type": "code",
   "execution_count": null,
   "metadata": {},
   "outputs": [],
   "source": [
    "payload = {\n",
    "    'text':'This is the corrects snetence'\n",
    "}\n",
    "\n",
    "response = requests.post(\n",
    "    \"http://localhost:9000/2015-03-31/functions/function/invocations\", \n",
    "    json=payload\n",
    ")\n",
    "\n",
    "pprint.pprint(response.json())"
   ]
  },
  {
   "cell_type": "markdown",
   "metadata": {},
   "source": [
    "### Remotelly with boto3"
   ]
  },
  {
   "cell_type": "code",
   "execution_count": null,
   "metadata": {},
   "outputs": [],
   "source": [
    "client = boto3.client('lambda')\n",
    "\n",
    "function_name = 'language-corrector-dev-gingerit'\n",
    "\n",
    "payload = {\n",
    "    'text':'This is the corrects snetence'\n",
    "}\n",
    "\n",
    "response = client.invoke(\n",
    "    FunctionName=function_name,\n",
    "    InvocationType='RequestResponse',\n",
    "    Payload=json.dumps(payload)\n",
    ")\n",
    "\n",
    "pprint.pprint(json.loads(response['Payload'].read()))"
   ]
  },
  {
   "cell_type": "markdown",
   "metadata": {},
   "source": [
    "### Remotelly with requests: requires API Gateway"
   ]
  },
  {
   "cell_type": "code",
   "execution_count": null,
   "metadata": {},
   "outputs": [],
   "source": [
    "url = 'https://XXXXXXXXXXXXXXXX.execute-api.eu-west-1.amazonaws.com/dev/language_corrector'\n",
    "\n",
    "payload = {\n",
    "    \"text\":\"This is the corrects snetence\"\n",
    "}\n",
    "\n",
    "response = requests.post(url, json=json.dumps(payload))\n",
    "\n",
    "pprint.pprint(response.json())"
   ]
  },
  {
   "cell_type": "markdown",
   "metadata": {},
   "source": [
    "### Remotelly with requests: requires API Gateway and API key"
   ]
  },
  {
   "cell_type": "code",
   "execution_count": null,
   "metadata": {},
   "outputs": [],
   "source": [
    "rl = 'https://XXXXXXXXXXXXXXXX.execute-api.eu-west-1.amazonaws.com/dev/language_corrector'\n",
    "api_key = 'KKKKKKKKKKKKKK'\n",
    "\n",
    "payload = {\n",
    "    \"text\":\"This is the corrects snetence\"\n",
    "}\n",
    "\n",
    "headers = {\n",
    "    'x-api-key':api_key\n",
    "}\n",
    "\n",
    "response = requests.post(url, headers=headers, json=json.dumps(payload))\n",
    "\n",
    "print(response.json())"
   ]
  }
 ],
 "metadata": {
  "kernelspec": {
   "display_name": "Python 3",
   "language": "python",
   "name": "python3"
  },
  "language_info": {
   "codemirror_mode": {
    "name": "ipython",
    "version": 3
   },
   "file_extension": ".py",
   "mimetype": "text/x-python",
   "name": "python",
   "nbconvert_exporter": "python",
   "pygments_lexer": "ipython3",
   "version": "3.8.3"
  }
 },
 "nbformat": 4,
 "nbformat_minor": 4
}
